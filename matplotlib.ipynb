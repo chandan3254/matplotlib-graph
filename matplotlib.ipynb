{
  "nbformat": 4,
  "nbformat_minor": 0,
  "metadata": {
    "colab": {
      "private_outputs": true,
      "provenance": [],
      "cell_execution_strategy": "setup",
      "include_colab_link": true
    },
    "kernelspec": {
      "name": "python3",
      "display_name": "Python 3"
    },
    "language_info": {
      "name": "python"
    }
  },
  "cells": [
    {
      "cell_type": "markdown",
      "metadata": {
        "id": "view-in-github",
        "colab_type": "text"
      },
      "source": [
        "<a href=\"https://colab.research.google.com/github/chandan3254/matplotlib-graph/blob/main/matplotlib.ipynb\" target=\"_parent\"><img src=\"https://colab.research.google.com/assets/colab-badge.svg\" alt=\"Open In Colab\"/></a>"
      ]
    },
    {
      "cell_type": "code",
      "execution_count": null,
      "metadata": {
        "id": "TfgeFmzexSkn"
      },
      "outputs": [],
      "source": []
    },
    {
      "cell_type": "markdown",
      "source": [
        "import matplotlib\n"
      ],
      "metadata": {
        "id": "sNI7xzhRxasb"
      }
    },
    {
      "cell_type": "markdown",
      "source": [
        "import matplotlib.pyplot as plt\n",
        "where...we can used .pyplot for inherte some special part of this laiberies like bar chart,line chart,pie chart\n",
        "and as plt ....is a shortcut name of this ,we can call plt for used this laiberies\n"
      ],
      "metadata": {
        "id": "hOvLZiF9xq8i"
      }
    },
    {
      "cell_type": "code",
      "source": [
        "import matplotlib.pyplot as plt\n",
        "import numpy as np\n",
        "xpts = np.array([0,4])\n",
        "ypts = np.array([0, 100])\n",
        "plt.plot(xpts, ypts)\n",
        "plt.show()"
      ],
      "metadata": {
        "id": "3om6fk7EyReH"
      },
      "execution_count": null,
      "outputs": []
    },
    {
      "cell_type": "markdown",
      "source": [
        "new code for ghraph\n"
      ],
      "metadata": {
        "id": "nFF1er7F17-m"
      }
    },
    {
      "cell_type": "code",
      "source": [
        "import matplotlib.pyplot as plt\n",
        "\n",
        "x = ['Jan', 'Feb', 'March', 'April', 'May', 'June',\n",
        "     'July', 'August', 'September', 'October', 'Nov', 'Dec']\n",
        "y = [0, 1, 2, 3, 4, 5, 6, 7, 8, 9, 10, 11]\n",
        "\n",
        "plt.plot(x, y, marker='o', color='blue', linestyle='-', linewidth=2)  # marker='o', not '0'\n",
        "plt.title(\"Monthly Values Graph\")\n",
        "plt.xlabel(\"Months\")\n",
        "plt.ylabel(\"Values\")\n",
        "plt.grid(True)\n",
        "plt.show()"
      ],
      "metadata": {
        "id": "uSs0t4H47K2p"
      },
      "execution_count": null,
      "outputs": []
    },
    {
      "cell_type": "markdown",
      "source": [
        "bar chart\n",
        "ipl trophy graph"
      ],
      "metadata": {
        "id": "ENEWy4IY_coj"
      }
    },
    {
      "cell_type": "code",
      "source": [
        "import matplotlib.pyplot as plt\n",
        "teams = [\"MI\", \"DC\", \"RCB\", \"CSK\", \"GT\", \"LSG\", \"PNB\"]\n",
        "\n",
        "trophies = [5, 1, 1, 4, 1, 2, 3]\n",
        "\n",
        "plt.bar(teams, trophies, color=\"skyblue\",edgecolor=\"blue\")\n",
        "\n",
        "plt.title(\"IPL Trophy Winner\")\n",
        "plt.xlable(\"Teams\")\n",
        "plt.ylable(\"Trophys\")\n",
        "plt.grid(axis=\"y\",linestyle=\"--\",alpha=0.5)\n",
        "plt.show()\n"
      ],
      "metadata": {
        "id": "GM2i4ruv_fVi"
      },
      "execution_count": null,
      "outputs": []
    },
    {
      "cell_type": "markdown",
      "source": [
        "pie chart"
      ],
      "metadata": {
        "id": "9GoBSmfmCXDb"
      }
    },
    {
      "cell_type": "code",
      "source": [
        "import matplotlib.pyplot as plt\n",
        "\n",
        "teams = ['MI', 'DC', 'RCB', 'CSK', 'GT', 'LSG', 'PNB']\n",
        "trophies = [5, 2, 2, 5, 1, 2, 3]\n",
        "\n",
        "plt.pie(trophies, labels=teams, autopct='%1.1f%%', startangle=140)\n",
        "\n",
        "\n",
        "plt.title(\"IPL Trophy Distribution (Pie Chart)\")\n",
        "\n",
        "plt.axis('equal')\n",
        "\n",
        "plt.show()"
      ],
      "metadata": {
        "id": "inswF8xXCbXv"
      },
      "execution_count": null,
      "outputs": []
    },
    {
      "cell_type": "markdown",
      "source": [
        "line chart"
      ],
      "metadata": {
        "id": "XEGSEeFcDKPe"
      }
    },
    {
      "cell_type": "code",
      "source": [
        "import matplotlib.pyplot as plt\n",
        "\n",
        "teams = ['MI', 'DC', 'RCB', 'CSK', 'GT', 'LSG', 'PNB']\n",
        "trophies = [5, 0, 1, 4, 1, 2, 3]\n",
        "\n",
        "plt.plot(teams, trophies, marker='o', color='blue', linestyle='-', linewidth=2)\n",
        "\n",
        "plt.title(\"IPL Trophy Winners (Line Chart)\")\n",
        "plt.xlabel(\"Teams\")\n",
        "plt.ylabel(\"Trophies\")\n",
        "\n",
        "plt.grid(True)\n",
        "\n",
        "plt.show()"
      ],
      "metadata": {
        "id": "8yi_iQgpDMDN"
      },
      "execution_count": null,
      "outputs": []
    },
    {
      "cell_type": "markdown",
      "source": [
        "catter plot"
      ],
      "metadata": {
        "id": "3PyXMRyhDiXX"
      }
    },
    {
      "cell_type": "code",
      "source": [
        "import matplotlib.pyplot as plt\n",
        "\n",
        "teams = ['MI', 'DC', 'RCB', 'CSK', 'GT', 'LSG', 'PNB']\n",
        "trophies = [5, 0, 1, 4, 1, 2, 3]\n",
        "\n",
        "x_pos = range(len(teams))\n",
        "\n",
        "plt.scatter(x_pos, trophies, color='purple', marker='o', s=100)\n",
        "\n",
        "plt.xticks(x_pos, teams)\n",
        "\n",
        "plt.title(\"IPL Trophy Winners (Scatter Plot)\")\n",
        "plt.xlabel(\"Teams\")\n",
        "plt.ylabel(\"Trophies\")\n",
        "\n",
        "plt.grid(True)\n",
        "\n",
        "plt.show()"
      ],
      "metadata": {
        "id": "fW1GAhExDlAH"
      },
      "execution_count": null,
      "outputs": []
    }
  ]
}